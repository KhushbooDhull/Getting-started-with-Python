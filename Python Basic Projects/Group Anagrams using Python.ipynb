{
 "cells": [
  {
   "cell_type": "markdown",
   "id": "1b1cda39",
   "metadata": {},
   "source": [
    "## Grouping Anagrams using Python"
   ]
  },
  {
   "cell_type": "code",
   "execution_count": 1,
   "id": "49d8dfe9",
   "metadata": {},
   "outputs": [],
   "source": [
    "from collections import defaultdict\n",
    "\n",
    "def group_anagrams(a):\n",
    "    dfdict = defaultdict(list)\n",
    "    for i in a:\n",
    "        sorted_i = \" \".join(sorted(i))\n",
    "        dfdict[sorted_i].append(i)\n",
    "    return dfdict.values()"
   ]
  },
  {
   "cell_type": "code",
   "execution_count": 2,
   "id": "6741077f",
   "metadata": {},
   "outputs": [
    {
     "name": "stdout",
     "output_type": "stream",
     "text": [
      "dict_values([['tea', 'eat', 'ate'], ['bat'], ['arc', 'car']])\n"
     ]
    }
   ],
   "source": [
    "words = [\"tea\", \"eat\", \"bat\", \"ate\", \"arc\", \"car\"]\n",
    "print(group_anagrams(words))"
   ]
  },
  {
   "cell_type": "code",
   "execution_count": null,
   "id": "ac39897f",
   "metadata": {},
   "outputs": [],
   "source": []
  }
 ],
 "metadata": {
  "kernelspec": {
   "display_name": "Python 3 (ipykernel)",
   "language": "python",
   "name": "python3"
  },
  "language_info": {
   "codemirror_mode": {
    "name": "ipython",
    "version": 3
   },
   "file_extension": ".py",
   "mimetype": "text/x-python",
   "name": "python",
   "nbconvert_exporter": "python",
   "pygments_lexer": "ipython3",
   "version": "3.9.7"
  }
 },
 "nbformat": 4,
 "nbformat_minor": 5
}
