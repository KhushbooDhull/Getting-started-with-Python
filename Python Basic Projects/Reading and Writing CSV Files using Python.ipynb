{
 "cells": [
  {
   "cell_type": "markdown",
   "id": "282c1bb7",
   "metadata": {},
   "source": [
    "## Reading and Writing CSV Files using Python"
   ]
  },
  {
   "cell_type": "code",
   "execution_count": 2,
   "id": "1b501819",
   "metadata": {},
   "outputs": [
    {
     "name": "stdout",
     "output_type": "stream",
     "text": [
      "       Name  Age\n",
      "0      Aman   23\n",
      "1    Diksha   21\n",
      "2  Akanksha   25\n",
      "3     Sajid   23\n",
      "4    Akshit   22\n"
     ]
    }
   ],
   "source": [
    "# writing a csv file\n",
    "import csv\n",
    "import pandas as pd\n",
    "data = {\"Name\": [\"Aman\", \"Diksha\", \"Akanksha\", \"Sajid\", \"Akshit\"], \n",
    "        \"Age\": [23, 21, 25, 23, 22]}\n",
    "data = pd.DataFrame(data)\n",
    "data.to_csv(\"age_data.csv\", index=False)\n",
    "print(data.head())"
   ]
  },
  {
   "cell_type": "code",
   "execution_count": 3,
   "id": "1184a645",
   "metadata": {},
   "outputs": [
    {
     "name": "stdout",
     "output_type": "stream",
     "text": [
      "       Name  Age\n",
      "0      Aman   23\n",
      "1    Diksha   21\n",
      "2  Akanksha   25\n",
      "3     Sajid   23\n",
      "4    Akshit   22\n"
     ]
    }
   ],
   "source": [
    "# reading a csv file\n",
    "import pandas as pd\n",
    "data = pd.read_csv(\"age_data.csv\")\n",
    "print(data.head())"
   ]
  },
  {
   "cell_type": "code",
   "execution_count": null,
   "id": "d90ea5c6",
   "metadata": {},
   "outputs": [],
   "source": []
  }
 ],
 "metadata": {
  "kernelspec": {
   "display_name": "Python 3 (ipykernel)",
   "language": "python",
   "name": "python3"
  },
  "language_info": {
   "codemirror_mode": {
    "name": "ipython",
    "version": 3
   },
   "file_extension": ".py",
   "mimetype": "text/x-python",
   "name": "python",
   "nbconvert_exporter": "python",
   "pygments_lexer": "ipython3",
   "version": "3.9.7"
  }
 },
 "nbformat": 4,
 "nbformat_minor": 5
}
