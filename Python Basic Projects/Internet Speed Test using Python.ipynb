{
 "cells": [
  {
   "cell_type": "markdown",
   "id": "52beccec",
   "metadata": {},
   "source": [
    "## Internet Speed Test using Python"
   ]
  },
  {
   "cell_type": "code",
   "execution_count": 1,
   "id": "1a3d926a",
   "metadata": {},
   "outputs": [
    {
     "name": "stdout",
     "output_type": "stream",
     "text": [
      "Collecting speedtest-cli\n",
      "  Downloading speedtest_cli-2.1.3-py2.py3-none-any.whl (23 kB)\n",
      "Installing collected packages: speedtest-cli\n",
      "Successfully installed speedtest-cli-2.1.3\n"
     ]
    }
   ],
   "source": [
    "!pip install speedtest-cli"
   ]
  },
  {
   "cell_type": "code",
   "execution_count": 2,
   "id": "67101308",
   "metadata": {},
   "outputs": [
    {
     "name": "stdout",
     "output_type": "stream",
     "text": [
      "Wifi Download Speed is  40296100.26659811\n",
      "Wifi Upload Speed is  46396704.988779195\n"
     ]
    }
   ],
   "source": [
    "import speedtest\n",
    "wifi  = speedtest.Speedtest()\n",
    "print(\"Wifi Download Speed is \", wifi.download())\n",
    "print(\"Wifi Upload Speed is \", wifi.upload())"
   ]
  },
  {
   "cell_type": "code",
   "execution_count": null,
   "id": "b602984b",
   "metadata": {},
   "outputs": [],
   "source": []
  }
 ],
 "metadata": {
  "kernelspec": {
   "display_name": "Python 3 (ipykernel)",
   "language": "python",
   "name": "python3"
  },
  "language_info": {
   "codemirror_mode": {
    "name": "ipython",
    "version": 3
   },
   "file_extension": ".py",
   "mimetype": "text/x-python",
   "name": "python",
   "nbconvert_exporter": "python",
   "pygments_lexer": "ipython3",
   "version": "3.9.7"
  }
 },
 "nbformat": 4,
 "nbformat_minor": 5
}
