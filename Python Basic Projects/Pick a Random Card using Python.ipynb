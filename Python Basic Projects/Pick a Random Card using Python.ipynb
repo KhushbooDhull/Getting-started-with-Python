{
 "cells": [
  {
   "cell_type": "markdown",
   "id": "78d77add",
   "metadata": {},
   "source": [
    "## Pick a Random Card using Python"
   ]
  },
  {
   "cell_type": "code",
   "execution_count": 2,
   "id": "09f48746",
   "metadata": {},
   "outputs": [
    {
     "name": "stdout",
     "output_type": "stream",
     "text": [
      "The [4] of ['Clubs']\n"
     ]
    }
   ],
   "source": [
    "import random\n",
    "cards = [\"Diamonds\", \"Spades\", \"Hearts\", \"Clubs\"]\n",
    "ranks = [2, 3, 4, 5, 6, 7, 8, 9, 10, \"Jack\", \"Queen\", \"King\", \"Ace\"]\n",
    "\n",
    "def pick_a_card():\n",
    "    card = random.choices(cards)\n",
    "    rank = random.choices(ranks)\n",
    "    return(f\"The {rank} of {card}\")\n",
    "\n",
    "print(pick_a_card())"
   ]
  },
  {
   "cell_type": "code",
   "execution_count": null,
   "id": "592ffeae",
   "metadata": {},
   "outputs": [],
   "source": []
  }
 ],
 "metadata": {
  "kernelspec": {
   "display_name": "Python 3 (ipykernel)",
   "language": "python",
   "name": "python3"
  },
  "language_info": {
   "codemirror_mode": {
    "name": "ipython",
    "version": 3
   },
   "file_extension": ".py",
   "mimetype": "text/x-python",
   "name": "python",
   "nbconvert_exporter": "python",
   "pygments_lexer": "ipython3",
   "version": "3.9.7"
  }
 },
 "nbformat": 4,
 "nbformat_minor": 5
}
