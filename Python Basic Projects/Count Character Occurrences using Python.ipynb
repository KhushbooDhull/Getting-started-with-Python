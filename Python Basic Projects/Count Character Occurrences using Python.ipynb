{
 "cells": [
  {
   "cell_type": "markdown",
   "id": "8f1b2d5b",
   "metadata": {},
   "source": [
    "## Count Character Occurrences using Python"
   ]
  },
  {
   "cell_type": "code",
   "execution_count": 2,
   "id": "227e7781",
   "metadata": {},
   "outputs": [
    {
     "name": "stdout",
     "output_type": "stream",
     "text": [
      "{'A': 1, 'n': 3, 'a': 2, 'c': 1, 'o': 1, 'd': 1, 'S': 1, 'e': 3, 'r': 3, 'v': 1, 'J': 1, 'u': 1, 'p': 1, 'y': 1, 't': 1}\n",
      "None\n"
     ]
    }
   ],
   "source": [
    "def count_characters(s):\n",
    "    count = {}\n",
    "    for i in s:\n",
    "        if i in count:\n",
    "            count[i] += 1\n",
    "        else:\n",
    "            count[i] = 1\n",
    "    print(count)\n",
    "print(count_characters(\"AnancondaServerJupyter\"))"
   ]
  },
  {
   "cell_type": "code",
   "execution_count": null,
   "id": "98050199",
   "metadata": {},
   "outputs": [],
   "source": []
  }
 ],
 "metadata": {
  "kernelspec": {
   "display_name": "Python 3 (ipykernel)",
   "language": "python",
   "name": "python3"
  },
  "language_info": {
   "codemirror_mode": {
    "name": "ipython",
    "version": 3
   },
   "file_extension": ".py",
   "mimetype": "text/x-python",
   "name": "python",
   "nbconvert_exporter": "python",
   "pygments_lexer": "ipython3",
   "version": "3.9.7"
  }
 },
 "nbformat": 4,
 "nbformat_minor": 5
}
