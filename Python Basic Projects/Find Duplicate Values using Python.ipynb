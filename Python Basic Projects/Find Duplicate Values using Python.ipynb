{
 "cells": [
  {
   "cell_type": "markdown",
   "id": "55f5f37b",
   "metadata": {},
   "source": [
    "## Find Duplicate Values using Python"
   ]
  },
  {
   "cell_type": "code",
   "execution_count": 1,
   "id": "bbd3cfd3",
   "metadata": {},
   "outputs": [
    {
     "name": "stdout",
     "output_type": "stream",
     "text": [
      "['Aman', 'Akanksha']\n"
     ]
    }
   ],
   "source": [
    "def find_duplicates(x):\n",
    "    length = len(x)\n",
    "    duplicates = []\n",
    "    for i in range(length):\n",
    "        n = i + 1\n",
    "        for a in range(n, length):\n",
    "            if x[i] == x[a] and x[i] not in duplicates:\n",
    "                duplicates.append(x[i])\n",
    "    return duplicates\n",
    "names = [\"Aman\", \"Akanksha\", \"Divyansha\", \"Devyansh\", \n",
    "         \"Aman\", \"Diksha\", \"Akanksha\"]\n",
    "print(find_duplicates(names))"
   ]
  },
  {
   "cell_type": "code",
   "execution_count": null,
   "id": "0512ced4",
   "metadata": {},
   "outputs": [],
   "source": []
  }
 ],
 "metadata": {
  "kernelspec": {
   "display_name": "Python 3 (ipykernel)",
   "language": "python",
   "name": "python3"
  },
  "language_info": {
   "codemirror_mode": {
    "name": "ipython",
    "version": 3
   },
   "file_extension": ".py",
   "mimetype": "text/x-python",
   "name": "python",
   "nbconvert_exporter": "python",
   "pygments_lexer": "ipython3",
   "version": "3.9.7"
  }
 },
 "nbformat": 4,
 "nbformat_minor": 5
}
