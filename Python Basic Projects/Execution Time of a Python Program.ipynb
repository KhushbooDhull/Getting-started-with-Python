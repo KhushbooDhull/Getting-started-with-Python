{
 "cells": [
  {
   "cell_type": "markdown",
   "id": "54cb43e2",
   "metadata": {},
   "source": [
    "## Calculating Execution Time of a Python Program"
   ]
  },
  {
   "cell_type": "code",
   "execution_count": 4,
   "id": "eee81ec6",
   "metadata": {},
   "outputs": [
    {
     "name": "stdout",
     "output_type": "stream",
     "text": [
      " AI\n",
      "Execution Time :  0.001068115234375\n"
     ]
    }
   ],
   "source": [
    "from time import time\n",
    "start = time()\n",
    "\n",
    "# Python program to create acronyms\n",
    "word = \"Artificial Intelligence\"\n",
    "text = word.split()\n",
    "a = \" \"\n",
    "for i in text:\n",
    "    a = a+str(i[0]).upper()\n",
    "print(a)\n",
    "\n",
    "end = time()\n",
    "execution_time = end - start\n",
    "print(\"Execution Time : \", execution_time)"
   ]
  },
  {
   "cell_type": "code",
   "execution_count": null,
   "id": "8fcab4f1",
   "metadata": {},
   "outputs": [],
   "source": []
  }
 ],
 "metadata": {
  "kernelspec": {
   "display_name": "Python 3 (ipykernel)",
   "language": "python",
   "name": "python3"
  },
  "language_info": {
   "codemirror_mode": {
    "name": "ipython",
    "version": 3
   },
   "file_extension": ".py",
   "mimetype": "text/x-python",
   "name": "python",
   "nbconvert_exporter": "python",
   "pygments_lexer": "ipython3",
   "version": "3.9.7"
  }
 },
 "nbformat": 4,
 "nbformat_minor": 5
}
