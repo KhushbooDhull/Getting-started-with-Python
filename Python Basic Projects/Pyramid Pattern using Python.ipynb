{
 "cells": [
  {
   "cell_type": "markdown",
   "id": "2bcdc28d",
   "metadata": {},
   "source": [
    "## Pyramid Pattern using Python"
   ]
  },
  {
   "cell_type": "code",
   "execution_count": 10,
   "id": "cf7fcb91",
   "metadata": {},
   "outputs": [
    {
     "name": "stdout",
     "output_type": "stream",
     "text": [
      "                  * \r\n",
      "                 * * \r\n",
      "                * * * \r\n",
      "               * * * * \r\n",
      "              * * * * * \r\n",
      "             * * * * * * \r\n",
      "            * * * * * * * \r\n",
      "           * * * * * * * * \r\n",
      "          * * * * * * * * * \r\n",
      "         * * * * * * * * * * \r\n",
      "None\n"
     ]
    }
   ],
   "source": [
    "def pyramid_pattern(n):\n",
    "    a = 2 * n-2\n",
    "    for i in range(0, n):\n",
    "        for j in range(0, a):\n",
    "            print(end=\" \")\n",
    "        a = a-1\n",
    "        for j in range(0, i+1):\n",
    "            print(\"*\", end=\" \")\n",
    "        print(\"\\r\")\n",
    "        \n",
    "print(pyramid_pattern(10))"
   ]
  },
  {
   "cell_type": "code",
   "execution_count": null,
   "id": "7b809c95",
   "metadata": {},
   "outputs": [],
   "source": []
  }
 ],
 "metadata": {
  "kernelspec": {
   "display_name": "Python 3 (ipykernel)",
   "language": "python",
   "name": "python3"
  },
  "language_info": {
   "codemirror_mode": {
    "name": "ipython",
    "version": 3
   },
   "file_extension": ".py",
   "mimetype": "text/x-python",
   "name": "python",
   "nbconvert_exporter": "python",
   "pygments_lexer": "ipython3",
   "version": "3.9.7"
  }
 },
 "nbformat": 4,
 "nbformat_minor": 5
}
