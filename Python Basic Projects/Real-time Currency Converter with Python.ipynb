{
 "cells": [
  {
   "cell_type": "markdown",
   "id": "391a7d28",
   "metadata": {},
   "source": [
    "## Real-time Currency Converter with Python"
   ]
  },
  {
   "cell_type": "code",
   "execution_count": 2,
   "id": "92586d49",
   "metadata": {
    "scrolled": true
   },
   "outputs": [
    {
     "name": "stdout",
     "output_type": "stream",
     "text": [
      "Collecting forex-python\n",
      "  Downloading forex_python-1.8-py3-none-any.whl (8.2 kB)\n",
      "Collecting simplejson\n",
      "  Downloading simplejson-3.17.6-cp39-cp39-macosx_10_9_x86_64.whl (74 kB)\n",
      "\u001b[K     |████████████████████████████████| 74 kB 6.0 MB/s eta 0:00:011\n",
      "\u001b[?25hRequirement already satisfied: requests in /opt/anaconda3/lib/python3.9/site-packages (from forex-python) (2.26.0)\n",
      "Requirement already satisfied: idna<4,>=2.5 in /opt/anaconda3/lib/python3.9/site-packages (from requests->forex-python) (3.2)\n",
      "Requirement already satisfied: charset-normalizer~=2.0.0 in /opt/anaconda3/lib/python3.9/site-packages (from requests->forex-python) (2.0.4)\n",
      "Requirement already satisfied: urllib3<1.27,>=1.21.1 in /opt/anaconda3/lib/python3.9/site-packages (from requests->forex-python) (1.26.7)\n",
      "Requirement already satisfied: certifi>=2017.4.17 in /opt/anaconda3/lib/python3.9/site-packages (from requests->forex-python) (2021.10.8)\n",
      "Installing collected packages: simplejson, forex-python\n",
      "Successfully installed forex-python-1.8 simplejson-3.17.6\n"
     ]
    }
   ],
   "source": [
    "!pip install forex-python"
   ]
  },
  {
   "cell_type": "code",
   "execution_count": 3,
   "id": "9c253ba0",
   "metadata": {},
   "outputs": [
    {
     "name": "stdout",
     "output_type": "stream",
     "text": [
      "Enter the amount: 55000\n",
      "From Currency: usd\n",
      "To Currency: inr\n",
      "USD  To  INR 55000\n",
      "4400377.487989019\n"
     ]
    }
   ],
   "source": [
    "from forex_python.converter import CurrencyRates\n",
    "c = CurrencyRates()\n",
    "amount = int(input(\"Enter the amount: \"))\n",
    "from_currency = input(\"From Currency: \").upper()\n",
    "to_currency = input(\"To Currency: \").upper()\n",
    "print(from_currency, \" To \", to_currency, amount)\n",
    "result = c.convert(from_currency, to_currency, amount)\n",
    "print(result)"
   ]
  },
  {
   "cell_type": "code",
   "execution_count": null,
   "id": "c219d982",
   "metadata": {},
   "outputs": [],
   "source": []
  }
 ],
 "metadata": {
  "kernelspec": {
   "display_name": "Python 3 (ipykernel)",
   "language": "python",
   "name": "python3"
  },
  "language_info": {
   "codemirror_mode": {
    "name": "ipython",
    "version": 3
   },
   "file_extension": ".py",
   "mimetype": "text/x-python",
   "name": "python",
   "nbconvert_exporter": "python",
   "pygments_lexer": "ipython3",
   "version": "3.9.7"
  }
 },
 "nbformat": 4,
 "nbformat_minor": 5
}
