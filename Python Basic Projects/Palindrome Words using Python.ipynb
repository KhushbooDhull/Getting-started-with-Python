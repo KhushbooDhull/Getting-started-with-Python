{
 "cells": [
  {
   "cell_type": "markdown",
   "id": "793991b3",
   "metadata": {},
   "source": [
    "## Palindrome Words using Python"
   ]
  },
  {
   "cell_type": "code",
   "execution_count": 24,
   "id": "fd9b168d",
   "metadata": {},
   "outputs": [],
   "source": [
    "def palindrome(sentence):\n",
    "    for i in (\",.'?/><}{{}}'\"):\n",
    "        sentence = sentence.replace(i, \"\")\n",
    "    palindrome = []\n",
    "    words = sentence.split(' ')\n",
    "    for word in words:\n",
    "        word = word.lower()\n",
    "        if word == word[::-1]:\n",
    "            palindrome.append(word)\n",
    "    return palindrome"
   ]
  },
  {
   "cell_type": "code",
   "execution_count": 25,
   "id": "eb83650f",
   "metadata": {},
   "outputs": [
    {
     "name": "stdout",
     "output_type": "stream",
     "text": [
      "Enter a sentence : hey, are you doing ok mom?\n",
      "['mom']\n"
     ]
    }
   ],
   "source": [
    "sentence = input(\"Enter a sentence : \")\n",
    "print(palindrome(sentence))"
   ]
  },
  {
   "cell_type": "code",
   "execution_count": null,
   "id": "2225a9cd",
   "metadata": {},
   "outputs": [],
   "source": []
  }
 ],
 "metadata": {
  "kernelspec": {
   "display_name": "Python 3 (ipykernel)",
   "language": "python",
   "name": "python3"
  },
  "language_info": {
   "codemirror_mode": {
    "name": "ipython",
    "version": 3
   },
   "file_extension": ".py",
   "mimetype": "text/x-python",
   "name": "python",
   "nbconvert_exporter": "python",
   "pygments_lexer": "ipython3",
   "version": "3.9.7"
  }
 },
 "nbformat": 4,
 "nbformat_minor": 5
}
