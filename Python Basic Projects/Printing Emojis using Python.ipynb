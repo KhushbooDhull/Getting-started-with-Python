{
 "cells": [
  {
   "cell_type": "markdown",
   "id": "c628c2b3",
   "metadata": {},
   "source": [
    "## Print Emojis using Python"
   ]
  },
  {
   "cell_type": "code",
   "execution_count": 2,
   "id": "25cfcdf0",
   "metadata": {},
   "outputs": [
    {
     "name": "stdout",
     "output_type": "stream",
     "text": [
      "Collecting emoji\n",
      "  Downloading emoji-1.7.0.tar.gz (175 kB)\n",
      "\u001b[K     |████████████████████████████████| 175 kB 4.4 MB/s eta 0:00:01\n",
      "\u001b[?25hBuilding wheels for collected packages: emoji\n",
      "  Building wheel for emoji (setup.py) ... \u001b[?25ldone\n",
      "\u001b[?25h  Created wheel for emoji: filename=emoji-1.7.0-py3-none-any.whl size=171047 sha256=56b980b6f15055fb0b06a985a17a84845ee136c6059e6a78d4ed0a0dc08fede8\n",
      "  Stored in directory: /Users/mac/Library/Caches/pip/wheels/fa/7a/e9/22dd0515e1bad255e51663ee513a2fa839c95934c5fc301090\n",
      "Successfully built emoji\n",
      "Installing collected packages: emoji\n",
      "Successfully installed emoji-1.7.0\n"
     ]
    }
   ],
   "source": [
    "!pip install emoji"
   ]
  },
  {
   "cell_type": "code",
   "execution_count": 5,
   "id": "faec4b27",
   "metadata": {},
   "outputs": [
    {
     "name": "stdout",
     "output_type": "stream",
     "text": [
      "I love reading books📚\n",
      "Some people have a very sensitive heart❤️, please be kind with them.💐\n"
     ]
    }
   ],
   "source": [
    "import emoji\n",
    "\n",
    "print(emoji.emojize(\"I love reading books:books:\"))\n",
    "print(emoji.emojize(\"Some people have a very sensitive heart:red_heart:, please be kind with them.:bouquet:\"))"
   ]
  },
  {
   "cell_type": "code",
   "execution_count": null,
   "id": "8e75605e",
   "metadata": {},
   "outputs": [],
   "source": []
  }
 ],
 "metadata": {
  "kernelspec": {
   "display_name": "Python 3 (ipykernel)",
   "language": "python",
   "name": "python3"
  },
  "language_info": {
   "codemirror_mode": {
    "name": "ipython",
    "version": 3
   },
   "file_extension": ".py",
   "mimetype": "text/x-python",
   "name": "python",
   "nbconvert_exporter": "python",
   "pygments_lexer": "ipython3",
   "version": "3.9.7"
  }
 },
 "nbformat": 4,
 "nbformat_minor": 5
}
