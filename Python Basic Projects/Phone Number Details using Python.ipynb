{
 "cells": [
  {
   "cell_type": "markdown",
   "id": "85eecd37",
   "metadata": {},
   "source": [
    "## Phone Number Details using Python"
   ]
  },
  {
   "cell_type": "code",
   "execution_count": 1,
   "id": "224e1b52",
   "metadata": {
    "scrolled": true
   },
   "outputs": [
    {
     "name": "stdout",
     "output_type": "stream",
     "text": [
      "Collecting phonenumbers\n",
      "  Downloading phonenumbers-8.12.51-py2.py3-none-any.whl (2.6 MB)\n",
      "\u001b[K     |████████████████████████████████| 2.6 MB 2.3 MB/s eta 0:00:01\n",
      "\u001b[?25hInstalling collected packages: phonenumbers\n",
      "Successfully installed phonenumbers-8.12.51\n"
     ]
    }
   ],
   "source": [
    "!pip install phonenumbers"
   ]
  },
  {
   "cell_type": "code",
   "execution_count": 11,
   "id": "d408d421",
   "metadata": {},
   "outputs": [
    {
     "name": "stdout",
     "output_type": "stream",
     "text": [
      "('Asia/Calcutta',)\n",
      "Vodafone\n",
      "India\n"
     ]
    }
   ],
   "source": [
    "import phonenumbers as ph\n",
    "from phonenumbers import carrier\n",
    "from phonenumbers import geocoder\n",
    "from phonenumbers import timezone\n",
    "\n",
    "number = \"+9199XXXXXXXX\"\n",
    "number = ph.parse(number)\n",
    "print(timezone.time_zones_for_number(number))\n",
    "print(carrier.name_for_number(number, \"en\"))\n",
    "print(geocoder.description_for_number(number, \"en\"))"
   ]
  },
  {
   "cell_type": "code",
   "execution_count": null,
   "id": "f412a5fe",
   "metadata": {},
   "outputs": [],
   "source": []
  }
 ],
 "metadata": {
  "kernelspec": {
   "display_name": "Python 3 (ipykernel)",
   "language": "python",
   "name": "python3"
  },
  "language_info": {
   "codemirror_mode": {
    "name": "ipython",
    "version": 3
   },
   "file_extension": ".py",
   "mimetype": "text/x-python",
   "name": "python",
   "nbconvert_exporter": "python",
   "pygments_lexer": "ipython3",
   "version": "3.9.7"
  }
 },
 "nbformat": 4,
 "nbformat_minor": 5
}
