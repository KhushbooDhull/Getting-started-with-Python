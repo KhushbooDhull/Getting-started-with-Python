{
 "cells": [
  {
   "cell_type": "markdown",
   "id": "94c743a6",
   "metadata": {},
   "source": [
    "## Index of Maximum Value in a Python List"
   ]
  },
  {
   "cell_type": "code",
   "execution_count": 4,
   "id": "16cf9c30",
   "metadata": {},
   "outputs": [
    {
     "name": "stdout",
     "output_type": "stream",
     "text": [
      "9\n"
     ]
    }
   ],
   "source": [
    "def maximum(x):\n",
    "    maximum_index = 0\n",
    "    current_index = 1\n",
    "    while current_index < len(x):\n",
    "        if x[current_index] > x[maximum_index]:\n",
    "            maximum_index = current_index\n",
    "        current_index = current_index + 1\n",
    "    return maximum_index\n",
    "a = [23, 76, 45, 20, 70, 65, 15, 54,99,109,77]\n",
    "print(maximum(a))"
   ]
  },
  {
   "cell_type": "markdown",
   "id": "a56f4216",
   "metadata": {},
   "source": [
    "## Index of Minimum Value in a Python List"
   ]
  },
  {
   "cell_type": "code",
   "execution_count": 5,
   "id": "00bf40b0",
   "metadata": {},
   "outputs": [
    {
     "name": "stdout",
     "output_type": "stream",
     "text": [
      "6\n"
     ]
    }
   ],
   "source": [
    "def minimum(x):\n",
    "    minimum_index = 0\n",
    "    current_index = 1\n",
    "    while current_index < len(x):\n",
    "        if x[current_index] < x[minimum_index]:\n",
    "            minimum_index = current_index\n",
    "        current_index = current_index + 1\n",
    "    return minimum_index\n",
    "a = [23, 76, 45, 20, 70, 65, 15, 54]\n",
    "print(minimum(a))"
   ]
  },
  {
   "cell_type": "code",
   "execution_count": null,
   "id": "40974a65",
   "metadata": {},
   "outputs": [],
   "source": []
  }
 ],
 "metadata": {
  "kernelspec": {
   "display_name": "Python 3 (ipykernel)",
   "language": "python",
   "name": "python3"
  },
  "language_info": {
   "codemirror_mode": {
    "name": "ipython",
    "version": 3
   },
   "file_extension": ".py",
   "mimetype": "text/x-python",
   "name": "python",
   "nbconvert_exporter": "python",
   "pygments_lexer": "ipython3",
   "version": "3.9.7"
  }
 },
 "nbformat": 4,
 "nbformat_minor": 5
}
