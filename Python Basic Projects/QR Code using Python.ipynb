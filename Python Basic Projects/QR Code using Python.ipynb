{
 "cells": [
  {
   "cell_type": "markdown",
   "id": "2f2344b9",
   "metadata": {},
   "source": [
    "## QR Code using Python"
   ]
  },
  {
   "cell_type": "code",
   "execution_count": 1,
   "id": "d506c735",
   "metadata": {},
   "outputs": [
    {
     "name": "stdout",
     "output_type": "stream",
     "text": [
      "Collecting PyQRCode\n",
      "  Downloading PyQRCode-1.2.1.zip (41 kB)\n",
      "\u001b[K     |████████████████████████████████| 41 kB 1.9 MB/s eta 0:00:011\n",
      "\u001b[?25hBuilding wheels for collected packages: PyQRCode\n",
      "  Building wheel for PyQRCode (setup.py) ... \u001b[?25ldone\n",
      "\u001b[?25h  Created wheel for PyQRCode: filename=PyQRCode-1.2.1-py3-none-any.whl size=36245 sha256=a78cc474cec298e7bcaa85adf5a0bc8d0866616c0206be9d85760fe66b5074c9\n",
      "  Stored in directory: /Users/mac/Library/Caches/pip/wheels/da/75/c0/38c7f82750de2725429b6b8571dca254249d73f6c882c5d9b1\n",
      "Successfully built PyQRCode\n",
      "Installing collected packages: PyQRCode\n",
      "Successfully installed PyQRCode-1.2.1\n",
      "Collecting pypng\n",
      "  Downloading pypng-0.0.21-py3-none-any.whl (48 kB)\n",
      "\u001b[K     |████████████████████████████████| 48 kB 4.8 MB/s eta 0:00:011\n",
      "\u001b[?25hInstalling collected packages: pypng\n",
      "Successfully installed pypng-0.0.21\n"
     ]
    }
   ],
   "source": [
    "!pip install PyQRCode\n",
    "!pip install pypng\n"
   ]
  },
  {
   "cell_type": "code",
   "execution_count": 1,
   "id": "f741ea31",
   "metadata": {},
   "outputs": [],
   "source": [
    "import pyqrcode\n",
    "import png\n",
    "link = \"https://github.com/KhushbooDhull/\"\n",
    "qr_code = pyqrcode.create(link)\n",
    "qr_code.png(\"github.png\", scale=5)"
   ]
  },
  {
   "cell_type": "code",
   "execution_count": null,
   "id": "5e15201f",
   "metadata": {},
   "outputs": [],
   "source": []
  }
 ],
 "metadata": {
  "kernelspec": {
   "display_name": "Python 3 (ipykernel)",
   "language": "python",
   "name": "python3"
  },
  "language_info": {
   "codemirror_mode": {
    "name": "ipython",
    "version": 3
   },
   "file_extension": ".py",
   "mimetype": "text/x-python",
   "name": "python",
   "nbconvert_exporter": "python",
   "pygments_lexer": "ipython3",
   "version": "3.9.7"
  }
 },
 "nbformat": 4,
 "nbformat_minor": 5
}
